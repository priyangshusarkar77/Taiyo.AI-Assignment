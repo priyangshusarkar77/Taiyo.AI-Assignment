{
 "cells": [
  {
   "cell_type": "markdown",
   "metadata": {},
   "source": [
    "# Binary Classifier Project Detail\n",
    "\n",
    "### In machine learning, there are many methods used for binary classification. The most common are:\n",
    "1.Logistic Regression\n",
    "\n",
    "2.Naive Bayes\n",
    "\n",
    "3.Decision Trees\n",
    "\n",
    "4.Nearest Neighbor\n",
    "\n",
    "5.Neural Networks\n",
    "\n",
    "Hence, we'll be using some of these algorithms!"
   ]
  },
  {
   "cell_type": "markdown",
   "metadata": {},
   "source": [
    "## Importing & installing Libraries"
   ]
  },
  {
   "cell_type": "code",
   "execution_count": 1,
   "metadata": {},
   "outputs": [],
   "source": [
    "import numpy as np\n",
    "import pandas as pd\n",
    "import matplotlib.pyplot as plt\n",
    "import seaborn as sns\n",
    "import warnings\n",
    "warnings.filterwarnings('ignore')\n",
    "from sklearn.model_selection import GridSearchCV"
   ]
  },
  {
   "cell_type": "markdown",
   "metadata": {},
   "source": [
    "## Preparing Data"
   ]
  },
  {
   "cell_type": "code",
   "execution_count": 4,
   "metadata": {},
   "outputs": [],
   "source": [
    "df=pd.read_csv(\"World_Bank_Projects_downloaded_6_15_2022.csv\",encoding =('ISO-8859-1'),low_memory =False)"
   ]
  },
  {
   "cell_type": "code",
   "execution_count": 5,
   "metadata": {},
   "outputs": [
    {
     "data": {
      "text/html": [
       "<div>\n",
       "<style scoped>\n",
       "    .dataframe tbody tr th:only-of-type {\n",
       "        vertical-align: middle;\n",
       "    }\n",
       "\n",
       "    .dataframe tbody tr th {\n",
       "        vertical-align: top;\n",
       "    }\n",
       "\n",
       "    .dataframe thead th {\n",
       "        text-align: right;\n",
       "    }\n",
       "</style>\n",
       "<table border=\"1\" class=\"dataframe\">\n",
       "  <thead>\n",
       "    <tr style=\"text-align: right;\">\n",
       "      <th></th>\n",
       "      <th>World Bank Projects, data as of 03/29/2022 22:00:01 EST</th>\n",
       "      <th>Unnamed: 1</th>\n",
       "      <th>Unnamed: 2</th>\n",
       "      <th>Unnamed: 3</th>\n",
       "      <th>Unnamed: 4</th>\n",
       "      <th>Unnamed: 5</th>\n",
       "      <th>Unnamed: 6</th>\n",
       "      <th>Unnamed: 7</th>\n",
       "      <th>Unnamed: 8</th>\n",
       "      <th>Unnamed: 9</th>\n",
       "      <th>...</th>\n",
       "      <th>Unnamed: 16</th>\n",
       "      <th>Unnamed: 17</th>\n",
       "      <th>Unnamed: 18</th>\n",
       "      <th>Unnamed: 19</th>\n",
       "      <th>Unnamed: 20</th>\n",
       "      <th>Unnamed: 21</th>\n",
       "      <th>Unnamed: 22</th>\n",
       "      <th>Unnamed: 23</th>\n",
       "      <th>Unnamed: 24</th>\n",
       "      <th>Unnamed: 25</th>\n",
       "    </tr>\n",
       "  </thead>\n",
       "  <tbody>\n",
       "    <tr>\n",
       "      <th>0</th>\n",
       "      <td>Project ID</td>\n",
       "      <td>Region</td>\n",
       "      <td>Country</td>\n",
       "      <td>Project Status</td>\n",
       "      <td>Project Name</td>\n",
       "      <td>Project Development Objective</td>\n",
       "      <td>Implementing Agency</td>\n",
       "      <td>Consultant Services Required</td>\n",
       "      <td>Project URL</td>\n",
       "      <td>Board Approval Date</td>\n",
       "      <td>...</td>\n",
       "      <td>Grant Amount</td>\n",
       "      <td>Borrower</td>\n",
       "      <td>Lending Instrument</td>\n",
       "      <td>Environmental Assessment Category</td>\n",
       "      <td>Environmental and Social Risk</td>\n",
       "      <td>Sector 1</td>\n",
       "      <td>Sector 2</td>\n",
       "      <td>Sector 3</td>\n",
       "      <td>Theme 1</td>\n",
       "      <td>Theme 2</td>\n",
       "    </tr>\n",
       "    <tr>\n",
       "      <th>1</th>\n",
       "      <td>id</td>\n",
       "      <td>regionname</td>\n",
       "      <td>countryname</td>\n",
       "      <td>projectstatusdisplay</td>\n",
       "      <td>project_name</td>\n",
       "      <td>pdo</td>\n",
       "      <td>impagency</td>\n",
       "      <td>cons_serv_reqd_ind</td>\n",
       "      <td>url</td>\n",
       "      <td>boardapprovaldate</td>\n",
       "      <td>...</td>\n",
       "      <td>grantamt</td>\n",
       "      <td>borrower</td>\n",
       "      <td>lendinginstr</td>\n",
       "      <td>envassesmentcategorycode</td>\n",
       "      <td>esrc_ovrl_risk_rate</td>\n",
       "      <td>sector1</td>\n",
       "      <td>sector2</td>\n",
       "      <td>sector3</td>\n",
       "      <td>theme1</td>\n",
       "      <td>theme2</td>\n",
       "    </tr>\n",
       "    <tr>\n",
       "      <th>2</th>\n",
       "      <td>P169983</td>\n",
       "      <td>Africa East</td>\n",
       "      <td>Republic of Angola</td>\n",
       "      <td>Active</td>\n",
       "      <td>Third Angola Growth and Inclusion Development ...</td>\n",
       "      <td>The development objective is to support the Go...</td>\n",
       "      <td>Ministry of Finance of the Republic of Angola</td>\n",
       "      <td>NaN</td>\n",
       "      <td>http://projects.worldbank.org/P169983/null?lan...</td>\n",
       "      <td>2022-03-25T00:00:00Z</td>\n",
       "      <td>...</td>\n",
       "      <td>0</td>\n",
       "      <td>REPUBLIC OF ANGOLA</td>\n",
       "      <td>Development Policy Lending</td>\n",
       "      <td>NaN</td>\n",
       "      <td>NaN</td>\n",
       "      <td>NaN</td>\n",
       "      <td>NaN</td>\n",
       "      <td>NaN</td>\n",
       "      <td>NaN</td>\n",
       "      <td>NaN</td>\n",
       "    </tr>\n",
       "    <tr>\n",
       "      <th>3</th>\n",
       "      <td>P173711</td>\n",
       "      <td>Africa East</td>\n",
       "      <td>Republic of Madagascar</td>\n",
       "      <td>Active</td>\n",
       "      <td>Connecting Madagascar for Inclusive Growth</td>\n",
       "      <td>The Project Development Objective is to improv...</td>\n",
       "      <td>Road Agency</td>\n",
       "      <td>NaN</td>\n",
       "      <td>http://projects.worldbank.org/P173711/null?lan...</td>\n",
       "      <td>2022-03-25T00:00:00Z</td>\n",
       "      <td>...</td>\n",
       "      <td>0</td>\n",
       "      <td>REPUBLIC OF MADAGASCAR</td>\n",
       "      <td>Investment Project Financing</td>\n",
       "      <td>NaN</td>\n",
       "      <td>NaN</td>\n",
       "      <td>NaN</td>\n",
       "      <td>NaN</td>\n",
       "      <td>NaN</td>\n",
       "      <td>NaN</td>\n",
       "      <td>NaN</td>\n",
       "    </tr>\n",
       "    <tr>\n",
       "      <th>4</th>\n",
       "      <td>P175747</td>\n",
       "      <td>Middle East and North Africa</td>\n",
       "      <td>Kingdom of Morocco</td>\n",
       "      <td>Active</td>\n",
       "      <td>Resilient and Sustainable Water in Agriculture</td>\n",
       "      <td>The project development objectives (PDO) are t...</td>\n",
       "      <td>Ministry of Agriculture - Directorate of Irrig...</td>\n",
       "      <td>NaN</td>\n",
       "      <td>http://projects.worldbank.org/P175747/null?lan...</td>\n",
       "      <td>2022-03-25T00:00:00Z</td>\n",
       "      <td>...</td>\n",
       "      <td>0</td>\n",
       "      <td>Kingdom of Morocco</td>\n",
       "      <td>Investment Project Financing</td>\n",
       "      <td>NaN</td>\n",
       "      <td>NaN</td>\n",
       "      <td>NaN</td>\n",
       "      <td>NaN</td>\n",
       "      <td>NaN</td>\n",
       "      <td>NaN</td>\n",
       "      <td>NaN</td>\n",
       "    </tr>\n",
       "    <tr>\n",
       "      <th>...</th>\n",
       "      <td>...</td>\n",
       "      <td>...</td>\n",
       "      <td>...</td>\n",
       "      <td>...</td>\n",
       "      <td>...</td>\n",
       "      <td>...</td>\n",
       "      <td>...</td>\n",
       "      <td>...</td>\n",
       "      <td>...</td>\n",
       "      <td>...</td>\n",
       "      <td>...</td>\n",
       "      <td>...</td>\n",
       "      <td>...</td>\n",
       "      <td>...</td>\n",
       "      <td>...</td>\n",
       "      <td>...</td>\n",
       "      <td>...</td>\n",
       "      <td>...</td>\n",
       "      <td>...</td>\n",
       "      <td>...</td>\n",
       "      <td>...</td>\n",
       "    </tr>\n",
       "    <tr>\n",
       "      <th>21484</th>\n",
       "      <td>P006578</td>\n",
       "      <td>Latin America and Caribbean</td>\n",
       "      <td>Republic of Chile</td>\n",
       "      <td>Closed</td>\n",
       "      <td>Power and Irrigation Project</td>\n",
       "      <td>NaN</td>\n",
       "      <td>NaN</td>\n",
       "      <td>NaN</td>\n",
       "      <td>http://projects.worldbank.org/P006578/null?lan...</td>\n",
       "      <td>1948-03-25T00:00:00Z</td>\n",
       "      <td>...</td>\n",
       "      <td>0</td>\n",
       "      <td>NaN</td>\n",
       "      <td>Specific Investment Loan</td>\n",
       "      <td>NaN</td>\n",
       "      <td>NaN</td>\n",
       "      <td>(Historic)Hydro</td>\n",
       "      <td>NaN</td>\n",
       "      <td>NaN</td>\n",
       "      <td>NaN</td>\n",
       "      <td>NaN</td>\n",
       "    </tr>\n",
       "    <tr>\n",
       "      <th>21485</th>\n",
       "      <td>P037451</td>\n",
       "      <td>Europe and Central Asia</td>\n",
       "      <td>Grand Duchy of Luxembourg</td>\n",
       "      <td>Closed</td>\n",
       "      <td>Steel Mill and Railway Project</td>\n",
       "      <td>NaN</td>\n",
       "      <td>NaN</td>\n",
       "      <td>NaN</td>\n",
       "      <td>http://projects.worldbank.org/P037451/null?lan...</td>\n",
       "      <td>1947-08-28T00:00:00Z</td>\n",
       "      <td>...</td>\n",
       "      <td>0</td>\n",
       "      <td>NaN</td>\n",
       "      <td>Structural Adjustment Loan</td>\n",
       "      <td>NaN</td>\n",
       "      <td>NaN</td>\n",
       "      <td>(Historic)Economic management</td>\n",
       "      <td>NaN</td>\n",
       "      <td>NaN</td>\n",
       "      <td>NaN</td>\n",
       "      <td>NaN</td>\n",
       "    </tr>\n",
       "    <tr>\n",
       "      <th>21486</th>\n",
       "      <td>P037362</td>\n",
       "      <td>Europe and Central Asia</td>\n",
       "      <td>Kingdom of Denmark</td>\n",
       "      <td>Closed</td>\n",
       "      <td>Post War Reconstruction Project</td>\n",
       "      <td>NaN</td>\n",
       "      <td>NaN</td>\n",
       "      <td>NaN</td>\n",
       "      <td>http://projects.worldbank.org/P037362/null?lan...</td>\n",
       "      <td>1947-08-22T00:00:00Z</td>\n",
       "      <td>...</td>\n",
       "      <td>0</td>\n",
       "      <td>NaN</td>\n",
       "      <td>Structural Adjustment Loan</td>\n",
       "      <td>NaN</td>\n",
       "      <td>NaN</td>\n",
       "      <td>(Historic)Economic management</td>\n",
       "      <td>NaN</td>\n",
       "      <td>NaN</td>\n",
       "      <td>NaN</td>\n",
       "      <td>NaN</td>\n",
       "    </tr>\n",
       "    <tr>\n",
       "      <th>21487</th>\n",
       "      <td>P037452</td>\n",
       "      <td>Europe and Central Asia</td>\n",
       "      <td>Kingdom of the Netherlands</td>\n",
       "      <td>Closed</td>\n",
       "      <td>Post-war Reconstruction Project</td>\n",
       "      <td>NaN</td>\n",
       "      <td>NaN</td>\n",
       "      <td>NaN</td>\n",
       "      <td>http://projects.worldbank.org/P037452/null?lan...</td>\n",
       "      <td>1947-08-07T00:00:00Z</td>\n",
       "      <td>...</td>\n",
       "      <td>0</td>\n",
       "      <td>NaN</td>\n",
       "      <td>Structural Adjustment Loan</td>\n",
       "      <td>NaN</td>\n",
       "      <td>NaN</td>\n",
       "      <td>(Historic)Economic management</td>\n",
       "      <td>NaN</td>\n",
       "      <td>NaN</td>\n",
       "      <td>NaN</td>\n",
       "      <td>NaN</td>\n",
       "    </tr>\n",
       "    <tr>\n",
       "      <th>21488</th>\n",
       "      <td>P037383</td>\n",
       "      <td>Europe and Central Asia</td>\n",
       "      <td>French Republic</td>\n",
       "      <td>Closed</td>\n",
       "      <td>Reconstruction Project</td>\n",
       "      <td>NaN</td>\n",
       "      <td>NaN</td>\n",
       "      <td>NaN</td>\n",
       "      <td>http://projects.worldbank.org/P037383/null?lan...</td>\n",
       "      <td>1947-05-09T00:00:00Z</td>\n",
       "      <td>...</td>\n",
       "      <td>0</td>\n",
       "      <td>NaN</td>\n",
       "      <td>Structural Adjustment Loan</td>\n",
       "      <td>NaN</td>\n",
       "      <td>NaN</td>\n",
       "      <td>(Historic)Economic management</td>\n",
       "      <td>NaN</td>\n",
       "      <td>NaN</td>\n",
       "      <td>NaN</td>\n",
       "      <td>NaN</td>\n",
       "    </tr>\n",
       "  </tbody>\n",
       "</table>\n",
       "<p>21489 rows × 26 columns</p>\n",
       "</div>"
      ],
      "text/plain": [
       "      World Bank Projects, data as of 03/29/2022 22:00:01 EST  \\\n",
       "0                                             Project ID        \n",
       "1                                                     id        \n",
       "2                                                P169983        \n",
       "3                                                P173711        \n",
       "4                                                P175747        \n",
       "...                                                  ...        \n",
       "21484                                            P006578        \n",
       "21485                                            P037451        \n",
       "21486                                            P037362        \n",
       "21487                                            P037452        \n",
       "21488                                            P037383        \n",
       "\n",
       "                         Unnamed: 1                  Unnamed: 2  \\\n",
       "0                            Region                     Country   \n",
       "1                        regionname                 countryname   \n",
       "2                       Africa East          Republic of Angola   \n",
       "3                       Africa East      Republic of Madagascar   \n",
       "4      Middle East and North Africa          Kingdom of Morocco   \n",
       "...                             ...                         ...   \n",
       "21484   Latin America and Caribbean           Republic of Chile   \n",
       "21485       Europe and Central Asia   Grand Duchy of Luxembourg   \n",
       "21486       Europe and Central Asia          Kingdom of Denmark   \n",
       "21487       Europe and Central Asia  Kingdom of the Netherlands   \n",
       "21488       Europe and Central Asia             French Republic   \n",
       "\n",
       "                 Unnamed: 3  \\\n",
       "0            Project Status   \n",
       "1      projectstatusdisplay   \n",
       "2                    Active   \n",
       "3                    Active   \n",
       "4                    Active   \n",
       "...                     ...   \n",
       "21484                Closed   \n",
       "21485                Closed   \n",
       "21486                Closed   \n",
       "21487                Closed   \n",
       "21488                Closed   \n",
       "\n",
       "                                              Unnamed: 4  \\\n",
       "0                                           Project Name   \n",
       "1                                           project_name   \n",
       "2      Third Angola Growth and Inclusion Development ...   \n",
       "3             Connecting Madagascar for Inclusive Growth   \n",
       "4         Resilient and Sustainable Water in Agriculture   \n",
       "...                                                  ...   \n",
       "21484                       Power and Irrigation Project   \n",
       "21485                     Steel Mill and Railway Project   \n",
       "21486                    Post War Reconstruction Project   \n",
       "21487                    Post-war Reconstruction Project   \n",
       "21488                             Reconstruction Project   \n",
       "\n",
       "                                              Unnamed: 5  \\\n",
       "0                         Project Development Objective    \n",
       "1                                                    pdo   \n",
       "2      The development objective is to support the Go...   \n",
       "3      The Project Development Objective is to improv...   \n",
       "4      The project development objectives (PDO) are t...   \n",
       "...                                                  ...   \n",
       "21484                                                NaN   \n",
       "21485                                                NaN   \n",
       "21486                                                NaN   \n",
       "21487                                                NaN   \n",
       "21488                                                NaN   \n",
       "\n",
       "                                              Unnamed: 6  \\\n",
       "0                                    Implementing Agency   \n",
       "1                                              impagency   \n",
       "2          Ministry of Finance of the Republic of Angola   \n",
       "3                                            Road Agency   \n",
       "4      Ministry of Agriculture - Directorate of Irrig...   \n",
       "...                                                  ...   \n",
       "21484                                                NaN   \n",
       "21485                                                NaN   \n",
       "21486                                                NaN   \n",
       "21487                                                NaN   \n",
       "21488                                                NaN   \n",
       "\n",
       "                         Unnamed: 7  \\\n",
       "0      Consultant Services Required   \n",
       "1                cons_serv_reqd_ind   \n",
       "2                               NaN   \n",
       "3                               NaN   \n",
       "4                               NaN   \n",
       "...                             ...   \n",
       "21484                           NaN   \n",
       "21485                           NaN   \n",
       "21486                           NaN   \n",
       "21487                           NaN   \n",
       "21488                           NaN   \n",
       "\n",
       "                                              Unnamed: 8  \\\n",
       "0                                            Project URL   \n",
       "1                                                    url   \n",
       "2      http://projects.worldbank.org/P169983/null?lan...   \n",
       "3      http://projects.worldbank.org/P173711/null?lan...   \n",
       "4      http://projects.worldbank.org/P175747/null?lan...   \n",
       "...                                                  ...   \n",
       "21484  http://projects.worldbank.org/P006578/null?lan...   \n",
       "21485  http://projects.worldbank.org/P037451/null?lan...   \n",
       "21486  http://projects.worldbank.org/P037362/null?lan...   \n",
       "21487  http://projects.worldbank.org/P037452/null?lan...   \n",
       "21488  http://projects.worldbank.org/P037383/null?lan...   \n",
       "\n",
       "                 Unnamed: 9  ...   Unnamed: 16             Unnamed: 17  \\\n",
       "0       Board Approval Date  ...  Grant Amount                Borrower   \n",
       "1         boardapprovaldate  ...      grantamt                borrower   \n",
       "2      2022-03-25T00:00:00Z  ...             0      REPUBLIC OF ANGOLA   \n",
       "3      2022-03-25T00:00:00Z  ...             0  REPUBLIC OF MADAGASCAR   \n",
       "4      2022-03-25T00:00:00Z  ...             0      Kingdom of Morocco   \n",
       "...                     ...  ...           ...                     ...   \n",
       "21484  1948-03-25T00:00:00Z  ...             0                     NaN   \n",
       "21485  1947-08-28T00:00:00Z  ...             0                     NaN   \n",
       "21486  1947-08-22T00:00:00Z  ...             0                     NaN   \n",
       "21487  1947-08-07T00:00:00Z  ...             0                     NaN   \n",
       "21488  1947-05-09T00:00:00Z  ...             0                     NaN   \n",
       "\n",
       "                        Unnamed: 18                        Unnamed: 19  \\\n",
       "0                Lending Instrument  Environmental Assessment Category   \n",
       "1                      lendinginstr           envassesmentcategorycode   \n",
       "2        Development Policy Lending                                NaN   \n",
       "3      Investment Project Financing                                NaN   \n",
       "4      Investment Project Financing                                NaN   \n",
       "...                             ...                                ...   \n",
       "21484      Specific Investment Loan                                NaN   \n",
       "21485    Structural Adjustment Loan                                NaN   \n",
       "21486    Structural Adjustment Loan                                NaN   \n",
       "21487    Structural Adjustment Loan                                NaN   \n",
       "21488    Structural Adjustment Loan                                NaN   \n",
       "\n",
       "                         Unnamed: 20                    Unnamed: 21  \\\n",
       "0      Environmental and Social Risk                       Sector 1   \n",
       "1                esrc_ovrl_risk_rate                        sector1   \n",
       "2                                NaN                            NaN   \n",
       "3                                NaN                            NaN   \n",
       "4                                NaN                            NaN   \n",
       "...                              ...                            ...   \n",
       "21484                            NaN                (Historic)Hydro   \n",
       "21485                            NaN  (Historic)Economic management   \n",
       "21486                            NaN  (Historic)Economic management   \n",
       "21487                            NaN  (Historic)Economic management   \n",
       "21488                            NaN  (Historic)Economic management   \n",
       "\n",
       "      Unnamed: 22 Unnamed: 23 Unnamed: 24 Unnamed: 25  \n",
       "0        Sector 2    Sector 3     Theme 1     Theme 2  \n",
       "1         sector2     sector3      theme1      theme2  \n",
       "2             NaN         NaN         NaN         NaN  \n",
       "3             NaN         NaN         NaN         NaN  \n",
       "4             NaN         NaN         NaN         NaN  \n",
       "...           ...         ...         ...         ...  \n",
       "21484         NaN         NaN         NaN         NaN  \n",
       "21485         NaN         NaN         NaN         NaN  \n",
       "21486         NaN         NaN         NaN         NaN  \n",
       "21487         NaN         NaN         NaN         NaN  \n",
       "21488         NaN         NaN         NaN         NaN  \n",
       "\n",
       "[21489 rows x 26 columns]"
      ]
     },
     "execution_count": 5,
     "metadata": {},
     "output_type": "execute_result"
    }
   ],
   "source": [
    "df"
   ]
  },
  {
   "cell_type": "code",
   "execution_count": 7,
   "metadata": {},
   "outputs": [
    {
     "data": {
      "text/html": [
       "<div>\n",
       "<style scoped>\n",
       "    .dataframe tbody tr th:only-of-type {\n",
       "        vertical-align: middle;\n",
       "    }\n",
       "\n",
       "    .dataframe tbody tr th {\n",
       "        vertical-align: top;\n",
       "    }\n",
       "\n",
       "    .dataframe thead th {\n",
       "        text-align: right;\n",
       "    }\n",
       "</style>\n",
       "<table border=\"1\" class=\"dataframe\">\n",
       "  <thead>\n",
       "    <tr style=\"text-align: right;\">\n",
       "      <th></th>\n",
       "      <th>World Bank Projects, data as of 03/29/2022 22:00:01 EST</th>\n",
       "      <th>Unnamed: 1</th>\n",
       "      <th>Unnamed: 2</th>\n",
       "      <th>Unnamed: 3</th>\n",
       "      <th>Unnamed: 4</th>\n",
       "      <th>Unnamed: 5</th>\n",
       "      <th>Unnamed: 6</th>\n",
       "      <th>Unnamed: 7</th>\n",
       "      <th>Unnamed: 8</th>\n",
       "      <th>Unnamed: 9</th>\n",
       "      <th>...</th>\n",
       "      <th>Unnamed: 16</th>\n",
       "      <th>Unnamed: 17</th>\n",
       "      <th>Unnamed: 18</th>\n",
       "      <th>Unnamed: 19</th>\n",
       "      <th>Unnamed: 20</th>\n",
       "      <th>Unnamed: 21</th>\n",
       "      <th>Unnamed: 22</th>\n",
       "      <th>Unnamed: 23</th>\n",
       "      <th>Unnamed: 24</th>\n",
       "      <th>Unnamed: 25</th>\n",
       "    </tr>\n",
       "  </thead>\n",
       "  <tbody>\n",
       "    <tr>\n",
       "      <th>0</th>\n",
       "      <td>Project ID</td>\n",
       "      <td>Region</td>\n",
       "      <td>Country</td>\n",
       "      <td>Project Status</td>\n",
       "      <td>Project Name</td>\n",
       "      <td>Project Development Objective</td>\n",
       "      <td>Implementing Agency</td>\n",
       "      <td>Consultant Services Required</td>\n",
       "      <td>Project URL</td>\n",
       "      <td>Board Approval Date</td>\n",
       "      <td>...</td>\n",
       "      <td>Grant Amount</td>\n",
       "      <td>Borrower</td>\n",
       "      <td>Lending Instrument</td>\n",
       "      <td>Environmental Assessment Category</td>\n",
       "      <td>Environmental and Social Risk</td>\n",
       "      <td>Sector 1</td>\n",
       "      <td>Sector 2</td>\n",
       "      <td>Sector 3</td>\n",
       "      <td>Theme 1</td>\n",
       "      <td>Theme 2</td>\n",
       "    </tr>\n",
       "    <tr>\n",
       "      <th>1</th>\n",
       "      <td>id</td>\n",
       "      <td>regionname</td>\n",
       "      <td>countryname</td>\n",
       "      <td>projectstatusdisplay</td>\n",
       "      <td>project_name</td>\n",
       "      <td>pdo</td>\n",
       "      <td>impagency</td>\n",
       "      <td>cons_serv_reqd_ind</td>\n",
       "      <td>url</td>\n",
       "      <td>boardapprovaldate</td>\n",
       "      <td>...</td>\n",
       "      <td>grantamt</td>\n",
       "      <td>borrower</td>\n",
       "      <td>lendinginstr</td>\n",
       "      <td>envassesmentcategorycode</td>\n",
       "      <td>esrc_ovrl_risk_rate</td>\n",
       "      <td>sector1</td>\n",
       "      <td>sector2</td>\n",
       "      <td>sector3</td>\n",
       "      <td>theme1</td>\n",
       "      <td>theme2</td>\n",
       "    </tr>\n",
       "    <tr>\n",
       "      <th>2</th>\n",
       "      <td>P169983</td>\n",
       "      <td>Africa East</td>\n",
       "      <td>Republic of Angola</td>\n",
       "      <td>Active</td>\n",
       "      <td>Third Angola Growth and Inclusion Development ...</td>\n",
       "      <td>The development objective is to support the Go...</td>\n",
       "      <td>Ministry of Finance of the Republic of Angola</td>\n",
       "      <td>NaN</td>\n",
       "      <td>http://projects.worldbank.org/P169983/null?lan...</td>\n",
       "      <td>2022-03-25T00:00:00Z</td>\n",
       "      <td>...</td>\n",
       "      <td>0</td>\n",
       "      <td>REPUBLIC OF ANGOLA</td>\n",
       "      <td>Development Policy Lending</td>\n",
       "      <td>NaN</td>\n",
       "      <td>NaN</td>\n",
       "      <td>NaN</td>\n",
       "      <td>NaN</td>\n",
       "      <td>NaN</td>\n",
       "      <td>NaN</td>\n",
       "      <td>NaN</td>\n",
       "    </tr>\n",
       "    <tr>\n",
       "      <th>3</th>\n",
       "      <td>P173711</td>\n",
       "      <td>Africa East</td>\n",
       "      <td>Republic of Madagascar</td>\n",
       "      <td>Active</td>\n",
       "      <td>Connecting Madagascar for Inclusive Growth</td>\n",
       "      <td>The Project Development Objective is to improv...</td>\n",
       "      <td>Road Agency</td>\n",
       "      <td>NaN</td>\n",
       "      <td>http://projects.worldbank.org/P173711/null?lan...</td>\n",
       "      <td>2022-03-25T00:00:00Z</td>\n",
       "      <td>...</td>\n",
       "      <td>0</td>\n",
       "      <td>REPUBLIC OF MADAGASCAR</td>\n",
       "      <td>Investment Project Financing</td>\n",
       "      <td>NaN</td>\n",
       "      <td>NaN</td>\n",
       "      <td>NaN</td>\n",
       "      <td>NaN</td>\n",
       "      <td>NaN</td>\n",
       "      <td>NaN</td>\n",
       "      <td>NaN</td>\n",
       "    </tr>\n",
       "    <tr>\n",
       "      <th>4</th>\n",
       "      <td>P175747</td>\n",
       "      <td>Middle East and North Africa</td>\n",
       "      <td>Kingdom of Morocco</td>\n",
       "      <td>Active</td>\n",
       "      <td>Resilient and Sustainable Water in Agriculture</td>\n",
       "      <td>The project development objectives (PDO) are t...</td>\n",
       "      <td>Ministry of Agriculture - Directorate of Irrig...</td>\n",
       "      <td>NaN</td>\n",
       "      <td>http://projects.worldbank.org/P175747/null?lan...</td>\n",
       "      <td>2022-03-25T00:00:00Z</td>\n",
       "      <td>...</td>\n",
       "      <td>0</td>\n",
       "      <td>Kingdom of Morocco</td>\n",
       "      <td>Investment Project Financing</td>\n",
       "      <td>NaN</td>\n",
       "      <td>NaN</td>\n",
       "      <td>NaN</td>\n",
       "      <td>NaN</td>\n",
       "      <td>NaN</td>\n",
       "      <td>NaN</td>\n",
       "      <td>NaN</td>\n",
       "    </tr>\n",
       "  </tbody>\n",
       "</table>\n",
       "<p>5 rows × 26 columns</p>\n",
       "</div>"
      ],
      "text/plain": [
       "  World Bank Projects, data as of 03/29/2022 22:00:01 EST  \\\n",
       "0                                         Project ID        \n",
       "1                                                 id        \n",
       "2                                            P169983        \n",
       "3                                            P173711        \n",
       "4                                            P175747        \n",
       "\n",
       "                     Unnamed: 1              Unnamed: 2            Unnamed: 3  \\\n",
       "0                        Region                 Country        Project Status   \n",
       "1                    regionname             countryname  projectstatusdisplay   \n",
       "2                   Africa East      Republic of Angola                Active   \n",
       "3                   Africa East  Republic of Madagascar                Active   \n",
       "4  Middle East and North Africa      Kingdom of Morocco                Active   \n",
       "\n",
       "                                          Unnamed: 4  \\\n",
       "0                                       Project Name   \n",
       "1                                       project_name   \n",
       "2  Third Angola Growth and Inclusion Development ...   \n",
       "3         Connecting Madagascar for Inclusive Growth   \n",
       "4     Resilient and Sustainable Water in Agriculture   \n",
       "\n",
       "                                          Unnamed: 5  \\\n",
       "0                     Project Development Objective    \n",
       "1                                                pdo   \n",
       "2  The development objective is to support the Go...   \n",
       "3  The Project Development Objective is to improv...   \n",
       "4  The project development objectives (PDO) are t...   \n",
       "\n",
       "                                          Unnamed: 6  \\\n",
       "0                                Implementing Agency   \n",
       "1                                          impagency   \n",
       "2      Ministry of Finance of the Republic of Angola   \n",
       "3                                        Road Agency   \n",
       "4  Ministry of Agriculture - Directorate of Irrig...   \n",
       "\n",
       "                     Unnamed: 7  \\\n",
       "0  Consultant Services Required   \n",
       "1            cons_serv_reqd_ind   \n",
       "2                           NaN   \n",
       "3                           NaN   \n",
       "4                           NaN   \n",
       "\n",
       "                                          Unnamed: 8            Unnamed: 9  \\\n",
       "0                                        Project URL   Board Approval Date   \n",
       "1                                                url     boardapprovaldate   \n",
       "2  http://projects.worldbank.org/P169983/null?lan...  2022-03-25T00:00:00Z   \n",
       "3  http://projects.worldbank.org/P173711/null?lan...  2022-03-25T00:00:00Z   \n",
       "4  http://projects.worldbank.org/P175747/null?lan...  2022-03-25T00:00:00Z   \n",
       "\n",
       "   ...   Unnamed: 16             Unnamed: 17                   Unnamed: 18  \\\n",
       "0  ...  Grant Amount                Borrower            Lending Instrument   \n",
       "1  ...      grantamt                borrower                  lendinginstr   \n",
       "2  ...             0      REPUBLIC OF ANGOLA    Development Policy Lending   \n",
       "3  ...             0  REPUBLIC OF MADAGASCAR  Investment Project Financing   \n",
       "4  ...             0      Kingdom of Morocco  Investment Project Financing   \n",
       "\n",
       "                         Unnamed: 19                    Unnamed: 20  \\\n",
       "0  Environmental Assessment Category  Environmental and Social Risk   \n",
       "1           envassesmentcategorycode            esrc_ovrl_risk_rate   \n",
       "2                                NaN                            NaN   \n",
       "3                                NaN                            NaN   \n",
       "4                                NaN                            NaN   \n",
       "\n",
       "  Unnamed: 21 Unnamed: 22 Unnamed: 23 Unnamed: 24 Unnamed: 25  \n",
       "0    Sector 1    Sector 2    Sector 3     Theme 1     Theme 2  \n",
       "1     sector1     sector2     sector3      theme1      theme2  \n",
       "2         NaN         NaN         NaN         NaN         NaN  \n",
       "3         NaN         NaN         NaN         NaN         NaN  \n",
       "4         NaN         NaN         NaN         NaN         NaN  \n",
       "\n",
       "[5 rows x 26 columns]"
      ]
     },
     "execution_count": 7,
     "metadata": {},
     "output_type": "execute_result"
    }
   ],
   "source": [
    "df.head(5)"
   ]
  },
  {
   "cell_type": "code",
   "execution_count": 8,
   "metadata": {},
   "outputs": [],
   "source": [
    "df = df.rename(columns = {'World Bank Projects, data as of 03/29/2022 22:00:01 EST':'Project ID',\n",
    "                         'Unnamed: 1':'Region',\n",
    "                         'Unnamed: 2':'Country',\n",
    "                         'Unnamed: 3':'Project Status',\n",
    "                         'Unnamed: 4':'Project Name',\n",
    "                         'Unnamed: 5':'Project Development Objective',\n",
    "                         'Unnamed: 6':'Implementing Agency',\n",
    "                         'Unnamed: 7':'Consultant Services Required',\n",
    "                         'Unnamed: 8':'Project URL',\n",
    "                         'Unnamed: 9':'Board Approval Date',\n",
    "                          'Grant Amount':'Project Closing Date',\n",
    "                          'Unnamed: 11':'Financing Type',\n",
    "                          'Unnamed: 12':'Current Project Cost',\n",
    "                          'Unnamed: 13':'IBRD Commitment',\n",
    "                          'Unnamed: 14':'IDA Commitment',\n",
    "                          'Unnamed: 15':'Total IDA and IBRD Commitment',\n",
    "                         'Unnamed: 16':'Grant Amount',\n",
    "                         'Unnamed: 17':'Borrower',\n",
    "                         'Unnamed: 18':'Lending Instrument',\n",
    "                         'Unnamed: 19':'Environmental Assessment Category',\n",
    "                         'Unnamed: 20':'Environmental and Social Risk'})\n",
    "\n",
    "df = df.drop(['Unnamed: 21','Unnamed: 22','Unnamed: 23','Unnamed: 24','Unnamed: 25'],axis=1)\n",
    "df = df.drop([0,1],axis=0)\n",
    "df.reset_index(inplace=True)\n",
    "df = df.drop(['index'],axis=1)\n",
    "df['Grant Amount'] = df['Grant Amount'].astype(float)\n",
    "df['Total IDA and IBRD Commitment'] = df['Total IDA and IBRD Commitment'].astype(float)\n",
    "df['IDA Commitment'] = df['IDA Commitment'].astype(float)\n",
    "df['IBRD Commitment'] = df['IBRD Commitment'].astype(float)\n",
    "df['Current Project Cost'] = df['Current Project Cost'].astype(float)\n",
    "df[\"Project Status\"].replace({'Active':0,'Pipeline':0,'Closed':1, 'Dropped':1 }, inplace=True)"
   ]
  },
  {
   "cell_type": "code",
   "execution_count": 10,
   "metadata": {},
   "outputs": [
    {
     "data": {
      "text/html": [
       "<div>\n",
       "<style scoped>\n",
       "    .dataframe tbody tr th:only-of-type {\n",
       "        vertical-align: middle;\n",
       "    }\n",
       "\n",
       "    .dataframe tbody tr th {\n",
       "        vertical-align: top;\n",
       "    }\n",
       "\n",
       "    .dataframe thead th {\n",
       "        text-align: right;\n",
       "    }\n",
       "</style>\n",
       "<table border=\"1\" class=\"dataframe\">\n",
       "  <thead>\n",
       "    <tr style=\"text-align: right;\">\n",
       "      <th></th>\n",
       "      <th>Project ID</th>\n",
       "      <th>Region</th>\n",
       "      <th>Country</th>\n",
       "      <th>Project Status</th>\n",
       "      <th>Project Name</th>\n",
       "      <th>Project Development Objective</th>\n",
       "      <th>Implementing Agency</th>\n",
       "      <th>Consultant Services Required</th>\n",
       "      <th>Project URL</th>\n",
       "      <th>Board Approval Date</th>\n",
       "      <th>...</th>\n",
       "      <th>Financing Type</th>\n",
       "      <th>Current Project Cost</th>\n",
       "      <th>IBRD Commitment</th>\n",
       "      <th>IDA Commitment</th>\n",
       "      <th>Total IDA and IBRD Commitment</th>\n",
       "      <th>Grant Amount</th>\n",
       "      <th>Borrower</th>\n",
       "      <th>Lending Instrument</th>\n",
       "      <th>Environmental Assessment Category</th>\n",
       "      <th>Environmental and Social Risk</th>\n",
       "    </tr>\n",
       "  </thead>\n",
       "  <tbody>\n",
       "    <tr>\n",
       "      <th>0</th>\n",
       "      <td>P169983</td>\n",
       "      <td>Africa East</td>\n",
       "      <td>Republic of Angola</td>\n",
       "      <td>0.0</td>\n",
       "      <td>Third Angola Growth and Inclusion Development ...</td>\n",
       "      <td>The development objective is to support the Go...</td>\n",
       "      <td>Ministry of Finance of the Republic of Angola</td>\n",
       "      <td>NaN</td>\n",
       "      <td>http://projects.worldbank.org/P169983/null?lan...</td>\n",
       "      <td>2022-03-25T00:00:00Z</td>\n",
       "      <td>...</td>\n",
       "      <td>IBRD</td>\n",
       "      <td>500000000.0</td>\n",
       "      <td>500000000.0</td>\n",
       "      <td>0.0</td>\n",
       "      <td>500000000.0</td>\n",
       "      <td>0.0</td>\n",
       "      <td>REPUBLIC OF ANGOLA</td>\n",
       "      <td>Development Policy Lending</td>\n",
       "      <td>NaN</td>\n",
       "      <td>NaN</td>\n",
       "    </tr>\n",
       "    <tr>\n",
       "      <th>1</th>\n",
       "      <td>P173711</td>\n",
       "      <td>Africa East</td>\n",
       "      <td>Republic of Madagascar</td>\n",
       "      <td>0.0</td>\n",
       "      <td>Connecting Madagascar for Inclusive Growth</td>\n",
       "      <td>The Project Development Objective is to improv...</td>\n",
       "      <td>Road Agency</td>\n",
       "      <td>NaN</td>\n",
       "      <td>http://projects.worldbank.org/P173711/null?lan...</td>\n",
       "      <td>2022-03-25T00:00:00Z</td>\n",
       "      <td>...</td>\n",
       "      <td>IDA</td>\n",
       "      <td>400000000.0</td>\n",
       "      <td>0.0</td>\n",
       "      <td>400000000.0</td>\n",
       "      <td>400000000.0</td>\n",
       "      <td>0.0</td>\n",
       "      <td>REPUBLIC OF MADAGASCAR</td>\n",
       "      <td>Investment Project Financing</td>\n",
       "      <td>NaN</td>\n",
       "      <td>NaN</td>\n",
       "    </tr>\n",
       "    <tr>\n",
       "      <th>2</th>\n",
       "      <td>P175747</td>\n",
       "      <td>Middle East and North Africa</td>\n",
       "      <td>Kingdom of Morocco</td>\n",
       "      <td>0.0</td>\n",
       "      <td>Resilient and Sustainable Water in Agriculture</td>\n",
       "      <td>The project development objectives (PDO) are t...</td>\n",
       "      <td>Ministry of Agriculture - Directorate of Irrig...</td>\n",
       "      <td>NaN</td>\n",
       "      <td>http://projects.worldbank.org/P175747/null?lan...</td>\n",
       "      <td>2022-03-25T00:00:00Z</td>\n",
       "      <td>...</td>\n",
       "      <td>IBRD</td>\n",
       "      <td>182250000.0</td>\n",
       "      <td>180000000.0</td>\n",
       "      <td>0.0</td>\n",
       "      <td>180000000.0</td>\n",
       "      <td>0.0</td>\n",
       "      <td>Kingdom of Morocco</td>\n",
       "      <td>Investment Project Financing</td>\n",
       "      <td>NaN</td>\n",
       "      <td>NaN</td>\n",
       "    </tr>\n",
       "  </tbody>\n",
       "</table>\n",
       "<p>3 rows × 21 columns</p>\n",
       "</div>"
      ],
      "text/plain": [
       "  Project ID                        Region                 Country  \\\n",
       "0    P169983                   Africa East      Republic of Angola   \n",
       "1    P173711                   Africa East  Republic of Madagascar   \n",
       "2    P175747  Middle East and North Africa      Kingdom of Morocco   \n",
       "\n",
       "   Project Status                                       Project Name  \\\n",
       "0             0.0  Third Angola Growth and Inclusion Development ...   \n",
       "1             0.0         Connecting Madagascar for Inclusive Growth   \n",
       "2             0.0     Resilient and Sustainable Water in Agriculture   \n",
       "\n",
       "                       Project Development Objective  \\\n",
       "0  The development objective is to support the Go...   \n",
       "1  The Project Development Objective is to improv...   \n",
       "2  The project development objectives (PDO) are t...   \n",
       "\n",
       "                                 Implementing Agency  \\\n",
       "0      Ministry of Finance of the Republic of Angola   \n",
       "1                                        Road Agency   \n",
       "2  Ministry of Agriculture - Directorate of Irrig...   \n",
       "\n",
       "  Consultant Services Required  \\\n",
       "0                          NaN   \n",
       "1                          NaN   \n",
       "2                          NaN   \n",
       "\n",
       "                                         Project URL   Board Approval Date  \\\n",
       "0  http://projects.worldbank.org/P169983/null?lan...  2022-03-25T00:00:00Z   \n",
       "1  http://projects.worldbank.org/P173711/null?lan...  2022-03-25T00:00:00Z   \n",
       "2  http://projects.worldbank.org/P175747/null?lan...  2022-03-25T00:00:00Z   \n",
       "\n",
       "   ... Financing Type Current Project Cost  IBRD Commitment  IDA Commitment  \\\n",
       "0  ...           IBRD          500000000.0      500000000.0             0.0   \n",
       "1  ...            IDA          400000000.0              0.0     400000000.0   \n",
       "2  ...           IBRD          182250000.0      180000000.0             0.0   \n",
       "\n",
       "   Total IDA and IBRD Commitment  Grant Amount                Borrower  \\\n",
       "0                    500000000.0           0.0      REPUBLIC OF ANGOLA   \n",
       "1                    400000000.0           0.0  REPUBLIC OF MADAGASCAR   \n",
       "2                    180000000.0           0.0      Kingdom of Morocco   \n",
       "\n",
       "             Lending Instrument Environmental Assessment Category  \\\n",
       "0    Development Policy Lending                               NaN   \n",
       "1  Investment Project Financing                               NaN   \n",
       "2  Investment Project Financing                               NaN   \n",
       "\n",
       "  Environmental and Social Risk  \n",
       "0                           NaN  \n",
       "1                           NaN  \n",
       "2                           NaN  \n",
       "\n",
       "[3 rows x 21 columns]"
      ]
     },
     "execution_count": 10,
     "metadata": {},
     "output_type": "execute_result"
    }
   ],
   "source": [
    "df.head(3)"
   ]
  },
  {
   "cell_type": "markdown",
   "metadata": {},
   "source": [
    "## Cleaning Data"
   ]
  },
  {
   "cell_type": "code",
   "execution_count": 11,
   "metadata": {},
   "outputs": [
    {
     "data": {
      "image/png": "[encoded data removed]",
      "text/plain": [
       "<Figure size 432x288 with 1 Axes>"
      ]
     },
     "metadata": {
      "needs_background": "light"
     },
     "output_type": "display_data"
    }
   ],
   "source": [
    "percent_nan = 100* df.isnull().sum() / len(df)\n",
    "percent_nan = percent_nan.sort_values()\n",
    "\n",
    "sns.barplot(x=percent_nan.index,y=percent_nan)\n",
    "plt.xticks(rotation=90);"
   ]
  },
  {
   "cell_type": "code",
   "execution_count": 12,
   "metadata": {},
   "outputs": [
    {
     "data": {
      "text/plain": [
       "Project ID                               0\n",
       "Region                                   2\n",
       "Country                                  2\n",
       "Project Status                           3\n",
       "Project Name                             0\n",
       "Project Development Objective         9962\n",
       "Implementing Agency                  14938\n",
       "Consultant Services Required         21459\n",
       "Project URL                              0\n",
       "Board Approval Date                   2870\n",
       "Unnamed: 10                           5029\n",
       "Financing Type                        8611\n",
       "Current Project Cost                   147\n",
       "IBRD Commitment                          0\n",
       "IDA Commitment                           0\n",
       "Total IDA and IBRD Commitment            0\n",
       "Grant Amount                             0\n",
       "Borrower                             15170\n",
       "Lending Instrument                     248\n",
       "Environmental Assessment Category     8404\n",
       "Environmental and Social Risk        21460\n",
       "dtype: int64"
      ]
     },
     "execution_count": 12,
     "metadata": {},
     "output_type": "execute_result"
    }
   ],
   "source": [
    "df.isnull().sum()"
   ]
  },
  {
   "cell_type": "code",
   "execution_count": 13,
   "metadata": {},
   "outputs": [],
   "source": [
    "df = df.drop(['Consultant Services Required','Environmental and Social Risk'],axis=1)"
   ]
  },
  {
   "cell_type": "markdown",
   "metadata": {},
   "source": [
    "## Hence, more than 4 columns have 60+ percentage of nan values. We will clean the rest of the columns as per the algorithmic requirements.\n",
    "\n",
    "## Filling nan values in Project Status & Project Development Objective column, which will be our target label & feature."
   ]
  },
  {
   "cell_type": "code",
   "execution_count": 14,
   "metadata": {},
   "outputs": [
    {
     "data": {
      "text/plain": [
       "1.0    17425\n",
       "0.0     4059\n",
       "Name: Project Status, dtype: int64"
      ]
     },
     "execution_count": 14,
     "metadata": {},
     "output_type": "execute_result"
    }
   ],
   "source": [
    "df['Project Status'].value_counts()"
   ]
  },
  {
   "cell_type": "code",
   "execution_count": 15,
   "metadata": {},
   "outputs": [],
   "source": [
    "df['Project Status'] = df['Project Status'].fillna(1)"
   ]
  },
  {
   "cell_type": "code",
   "execution_count": 16,
   "metadata": {},
   "outputs": [],
   "source": [
    "data = df[['Project Status','Project Development Objective']]\n",
    "data.isnull().sum()\n",
    "data.dropna(axis=0,inplace=True)"
   ]
  },
  {
   "cell_type": "markdown",
   "metadata": {},
   "source": [
    "# Training Models\n",
    "\n",
    "# Training and Data"
   ]
  },
  {
   "cell_type": "code",
   "execution_count": 17,
   "metadata": {},
   "outputs": [],
   "source": [
    "X = data['Project Development Objective']\n",
    "y = data['Project Status']"
   ]
  },
  {
   "cell_type": "code",
   "execution_count": 18,
   "metadata": {},
   "outputs": [],
   "source": [
    "from sklearn.model_selection import train_test_split\n",
    "X_train, X_test, y_train, y_test = train_test_split(X, y, test_size=0.2, random_state=101)"
   ]
  },
  {
   "cell_type": "markdown",
   "metadata": {},
   "source": [
    "## 1. Naive Bayes"
   ]
  },
  {
   "cell_type": "code",
   "execution_count": 19,
   "metadata": {},
   "outputs": [],
   "source": [
    "from sklearn.pipeline import Pipeline\n",
    "from sklearn.feature_extraction.text import TfidfVectorizer\n",
    "from sklearn.svm import LinearSVC\n",
    "from sklearn.naive_bayes import MultinomialNB\n",
    "\n",
    "pipe = Pipeline([('tfidf', TfidfVectorizer()),('svc', LinearSVC()),])"
   ]
  },
  {
   "cell_type": "code",
   "execution_count": 20,
   "metadata": {},
   "outputs": [
    {
     "data": {
      "text/plain": [
       "Pipeline(steps=[('tfidf', TfidfVectorizer()), ('svc', LinearSVC())])"
      ]
     },
     "execution_count": 20,
     "metadata": {},
     "output_type": "execute_result"
    }
   ],
   "source": [
    "# Feed the training data through the pipeline\n",
    "pipe.fit(X_train, y_train)  "
   ]
  },
  {
   "cell_type": "code",
   "execution_count": 21,
   "metadata": {},
   "outputs": [
    {
     "name": "stdout",
     "output_type": "stream",
     "text": [
      "              precision    recall  f1-score   support\n",
      "\n",
      "         0.0       0.71      0.67      0.69       807\n",
      "         1.0       0.83      0.86      0.84      1498\n",
      "\n",
      "    accuracy                           0.79      2305\n",
      "   macro avg       0.77      0.76      0.77      2305\n",
      "weighted avg       0.79      0.79      0.79      2305\n",
      "\n"
     ]
    }
   ],
   "source": [
    "from sklearn.metrics import classification_report,plot_confusion_matrix\n",
    "preds = pipe.predict(X_test)\n",
    "print(classification_report(y_test,preds))"
   ]
  },
  {
   "cell_type": "code",
   "execution_count": 22,
   "metadata": {},
   "outputs": [
    {
     "name": "stdout",
     "output_type": "stream",
     "text": [
      "              precision    recall  f1-score   support\n",
      "\n",
      "         0.0       0.71      0.67      0.69       807\n",
      "         1.0       0.83      0.86      0.84      1498\n",
      "\n",
      "    accuracy                           0.79      2305\n",
      "   macro avg       0.77      0.76      0.77      2305\n",
      "weighted avg       0.79      0.79      0.79      2305\n",
      "\n"
     ]
    }
   ],
   "source": [
    "from sklearn.metrics import classification_report,plot_confusion_matrix\n",
    "preds = pipe.predict(X_test)\n",
    "print(classification_report(y_test,preds))"
   ]
  },
  {
   "cell_type": "code",
   "execution_count": 23,
   "metadata": {},
   "outputs": [
    {
     "data": {
      "text/plain": [
       "<sklearn.metrics._plot.confusion_matrix.ConfusionMatrixDisplay at 0x11696682370>"
      ]
     },
     "execution_count": 23,
     "metadata": {},
     "output_type": "execute_result"
    },
    {
     "data": {
      "image/png": "[encoded data removed]",
      "text/plain": [
       "<Figure size 432x288 with 2 Axes>"
      ]
     },
     "metadata": {
      "needs_background": "light"
     },
     "output_type": "display_data"
    }
   ],
   "source": [
    "plot_confusion_matrix(pipe,X_test,y_test)"
   ]
  },
  {
   "cell_type": "markdown",
   "metadata": {},
   "source": [
    "## 2. Logistic Regression"
   ]
  },
  {
   "cell_type": "code",
   "execution_count": 24,
   "metadata": {},
   "outputs": [],
   "source": [
    "data2 = df[['Project Status','Region','Country','Current Project Cost','IBRD Commitment','IDA Commitment','Total IDA and IBRD Commitment','Grant Amount']]\n",
    "data2 = data2.dropna(axis=0)\n",
    "\n",
    "data2.select_dtypes(include='object')\n",
    "df_nums = data2.select_dtypes(exclude='object')\n",
    "df_objs = data2.select_dtypes(include='object')\n",
    "\n",
    "df_objs = pd.get_dummies(df_objs,drop_first=True)\n",
    "\n",
    "data2 = pd.concat([df_nums,df_objs],axis=1)\n",
    "data2 = data2.astype(float)"
   ]
  },
  {
   "cell_type": "code",
   "execution_count": 27,
   "metadata": {},
   "outputs": [],
   "source": [
    "X = data2.drop(['Project Status'],axis=1)\n",
    "y = data2['Project Status']\n",
    "\n",
    "from sklearn.model_selection import train_test_split\n",
    "X_train, X_test, y_train, y_test = train_test_split(X, y, test_size=0.2, random_state=101)\n",
    "\n",
    "from sklearn.preprocessing import StandardScaler\n",
    "scaler = StandardScaler()\n",
    "scaled_X_train = scaler.fit_transform(X_train)\n",
    "scaled_X_test = scaler.transform(X_test)"
   ]
  },
  {
   "cell_type": "code",
   "execution_count": 29,
   "metadata": {},
   "outputs": [
    {
     "data": {
      "text/plain": [
       "LogisticRegression(max_iter=5000, multi_class='ovr', solver='saga')"
      ]
     },
     "execution_count": 29,
     "metadata": {},
     "output_type": "execute_result"
    }
   ],
   "source": [
    "from sklearn.linear_model import LogisticRegression\n",
    "from sklearn.model_selection import GridSearchCV\n",
    "\n",
    "# Depending on warnings you may need to adjust max iterations allowed \n",
    "# Or experiment with different solvers\n",
    "log_model = LogisticRegression(solver='saga',multi_class=\"ovr\",max_iter=5000)\n",
    "log_model.fit(X_train,y_train)"
   ]
  },
  {
   "cell_type": "markdown",
   "metadata": {},
   "source": [
    "### GridSearch for Best Hyper-Parameters\n",
    "\n",
    "Tried GridSearch but it kept showing error. Will try to solve the problem later but the deadline was closing in so I submitted.\n",
    "\n",
    "### Model Performance on Classification Tasks"
   ]
  },
  {
   "cell_type": "code",
   "execution_count": 30,
   "metadata": {},
   "outputs": [
    {
     "data": {
      "text/plain": [
       "array([1., 1., 1., ..., 1., 1., 1.])"
      ]
     },
     "execution_count": 30,
     "metadata": {},
     "output_type": "execute_result"
    }
   ],
   "source": [
    "from sklearn.metrics import accuracy_score,confusion_matrix,classification_report,plot_confusion_matrix\n",
    "y_pred = log_model.predict(X_test)\n",
    "y_pred"
   ]
  },
  {
   "cell_type": "code",
   "execution_count": 31,
   "metadata": {},
   "outputs": [
    {
     "data": {
      "text/plain": [
       "0.8020149953139644"
      ]
     },
     "execution_count": 31,
     "metadata": {},
     "output_type": "execute_result"
    }
   ],
   "source": [
    "accuracy_score(y_test,y_pred)"
   ]
  },
  {
   "cell_type": "code",
   "execution_count": 32,
   "metadata": {},
   "outputs": [
    {
     "data": {
      "text/plain": [
       "array([[  10,  818],\n",
       "       [  27, 3413]], dtype=int64)"
      ]
     },
     "execution_count": 32,
     "metadata": {},
     "output_type": "execute_result"
    }
   ],
   "source": [
    "confusion_matrix(y_test,y_pred)"
   ]
  },
  {
   "cell_type": "markdown",
   "metadata": {},
   "source": [
    "## 3. AdaBoost"
   ]
  },
  {
   "cell_type": "code",
   "execution_count": 33,
   "metadata": {},
   "outputs": [],
   "source": [
    "data2 = df[['Project Status','Region','Country','Current Project Cost','IBRD Commitment','IDA Commitment','Total IDA and IBRD Commitment','Grant Amount']]\n",
    "data2 = data2.dropna(axis=0)\n",
    "\n",
    "data2.select_dtypes(include='object')\n",
    "df_nums = data2.select_dtypes(exclude='object')\n",
    "df_objs = data2.select_dtypes(include='object')\n",
    "\n",
    "df_objs = pd.get_dummies(df_objs,drop_first=True)\n",
    "\n",
    "data2 = pd.concat([df_nums,df_objs],axis=1)\n",
    "data2 = data2.astype(float)\n",
    "\n",
    "X = data2.drop(['Project Status'],axis=1)\n",
    "y = data2['Project Status']\n",
    "\n",
    "from sklearn.model_selection import train_test_split\n",
    "X_train, X_test, y_train, y_test = train_test_split(X, y, test_size=0.2, random_state=101)\n",
    "\n",
    "from sklearn.preprocessing import StandardScaler\n",
    "scaler = StandardScaler()\n",
    "scaled_X_train = scaler.fit_transform(X_train)\n",
    "scaled_X_test = scaler.transform(X_test)"
   ]
  },
  {
   "cell_type": "code",
   "execution_count": 34,
   "metadata": {},
   "outputs": [
    {
     "data": {
      "text/plain": [
       "GridSearchCV(estimator=AdaBoostClassifier(),\n",
       "             param_grid={'learning_rate': [0.2, 0.3], 'n_estimators': [40, 41]})"
      ]
     },
     "execution_count": 34,
     "metadata": {},
     "output_type": "execute_result"
    }
   ],
   "source": [
    "param_grid = {\"n_estimators\":[40,41],\n",
    "              'learning_rate':[0.2,0.3]}\n",
    "\n",
    "from sklearn.ensemble import AdaBoostClassifier\n",
    "\n",
    "from sklearn.model_selection import GridSearchCV\n",
    "model = AdaBoostClassifier()\n",
    "\n",
    "Grad_Boost_model = GridSearchCV(model,param_grid)\n",
    "\n",
    "Grad_Boost_model.fit(X_train,y_train)"
   ]
  },
  {
   "cell_type": "code",
   "execution_count": 35,
   "metadata": {},
   "outputs": [
    {
     "data": {
      "text/plain": [
       "{'learning_rate': 0.3, 'n_estimators': 41}"
      ]
     },
     "execution_count": 35,
     "metadata": {},
     "output_type": "execute_result"
    }
   ],
   "source": [
    "Grad_Boost_model.best_params_"
   ]
  },
  {
   "cell_type": "markdown",
   "metadata": {},
   "source": [
    "## Performance Evaluation"
   ]
  },
  {
   "cell_type": "code",
   "execution_count": 36,
   "metadata": {},
   "outputs": [
    {
     "data": {
      "text/plain": [
       "<sklearn.metrics._plot.roc_curve.RocCurveDisplay at 0x11682665cd0>"
      ]
     },
     "execution_count": 36,
     "metadata": {},
     "output_type": "execute_result"
    },
    {
     "data": {
      "image/png": "[encoded data removed]",
      "text/plain": [
       "<Figure size 432x288 with 1 Axes>"
      ]
     },
     "metadata": {
      "needs_background": "light"
     },
     "output_type": "display_data"
    }
   ],
   "source": [
    "from sklearn.metrics import precision_recall_curve,plot_precision_recall_curve,plot_roc_curve\n",
    "plot_roc_curve(Grad_Boost_model,X_test,y_test)"
   ]
  },
  {
   "cell_type": "code",
   "execution_count": 37,
   "metadata": {},
   "outputs": [
    {
     "data": {
      "text/plain": [
       "array([[  87,  741],\n",
       "       [  65, 3375]], dtype=int64)"
      ]
     },
     "execution_count": 37,
     "metadata": {},
     "output_type": "execute_result"
    }
   ],
   "source": [
    "#Ada Boost\n",
    "from sklearn.metrics import accuracy_score,confusion_matrix,classification_report,plot_confusion_matrix\n",
    "y_Grad_Boost_model_pred = Grad_Boost_model.predict(X_test)\n",
    "confusion_matrix(y_test,y_Grad_Boost_model_pred)"
   ]
  },
  {
   "cell_type": "code",
   "execution_count": 38,
   "metadata": {},
   "outputs": [
    {
     "data": {
      "text/plain": [
       "<sklearn.metrics._plot.confusion_matrix.ConfusionMatrixDisplay at 0x116956d12b0>"
      ]
     },
     "execution_count": 38,
     "metadata": {},
     "output_type": "execute_result"
    },
    {
     "data": {
      "image/png": "[encoded data removed]",
      "text/plain": [
       "<Figure size 432x288 with 2 Axes>"
      ]
     },
     "metadata": {
      "needs_background": "light"
     },
     "output_type": "display_data"
    }
   ],
   "source": [
    "plot_confusion_matrix(Grad_Boost_model,X_test,y_test,normalize='true')"
   ]
  },
  {
   "cell_type": "code",
   "execution_count": 39,
   "metadata": {},
   "outputs": [
    {
     "name": "stdout",
     "output_type": "stream",
     "text": [
      "              precision    recall  f1-score   support\n",
      "\n",
      "         0.0       0.57      0.11      0.18       828\n",
      "         1.0       0.82      0.98      0.89      3440\n",
      "\n",
      "    accuracy                           0.81      4268\n",
      "   macro avg       0.70      0.54      0.54      4268\n",
      "weighted avg       0.77      0.81      0.75      4268\n",
      "\n"
     ]
    }
   ],
   "source": [
    "print(classification_report(y_test,y_Grad_Boost_model_pred))"
   ]
  },
  {
   "cell_type": "markdown",
   "metadata": {},
   "source": [
    "# Concluding the models\n",
    "\n",
    "## 1. Logistic Regression"
   ]
  },
  {
   "cell_type": "code",
   "execution_count": 40,
   "metadata": {},
   "outputs": [
    {
     "data": {
      "text/plain": [
       "49.678632795139"
      ]
     },
     "execution_count": 40,
     "metadata": {},
     "output_type": "execute_result"
    }
   ],
   "source": [
    "b = np.array(X_test.iloc[953])\n",
    "(log_model.predict_proba([b])[0][0]) * 100"
   ]
  },
  {
   "cell_type": "code",
   "execution_count": 41,
   "metadata": {},
   "outputs": [],
   "source": [
    "def predict(Val):\n",
    "    a = np.round(((log_model.predict_proba([Val])[0][0]) * 100),3)\n",
    "    print('Chances of Cancellation are:',a,'%')"
   ]
  },
  {
   "cell_type": "code",
   "execution_count": 42,
   "metadata": {},
   "outputs": [
    {
     "name": "stdout",
     "output_type": "stream",
     "text": [
      "Chances of Cancellation are: 49.679 %\n"
     ]
    }
   ],
   "source": [
    "predict(np.array(X_test.iloc[953]))"
   ]
  },
  {
   "cell_type": "markdown",
   "metadata": {},
   "source": [
    "## 2. AdaBoost"
   ]
  },
  {
   "cell_type": "code",
   "execution_count": 43,
   "metadata": {},
   "outputs": [
    {
     "data": {
      "text/plain": [
       "45.712074653804734"
      ]
     },
     "execution_count": 43,
     "metadata": {},
     "output_type": "execute_result"
    }
   ],
   "source": [
    "d = np.array(X_test.iloc[953])\n",
    "(Grad_Boost_model.predict_proba([d])[0][0]) * 100"
   ]
  },
  {
   "cell_type": "code",
   "execution_count": 44,
   "metadata": {},
   "outputs": [],
   "source": [
    "def predict(Val):\n",
    "    d = np.round(((Grad_Boost_model.predict_proba([Val])[0][0]) * 100),3)\n",
    "    print('Chances of Cancellation are:',d,'%')"
   ]
  },
  {
   "cell_type": "code",
   "execution_count": 45,
   "metadata": {},
   "outputs": [
    {
     "name": "stdout",
     "output_type": "stream",
     "text": [
      "Chances of Cancellation are: 45.712 %\n"
     ]
    }
   ],
   "source": [
    "predict(np.array(X_test.iloc[953]))"
   ]
  },
  {
   "cell_type": "markdown",
   "metadata": {},
   "source": [
    "## Hence, we can predict the probability whether a project will be “closed” or “canceled/distressed”."
   ]
  }
 ],
 "metadata": {
  "kernelspec": {
   "display_name": "Python 3",
   "language": "python",
   "name": "python3"
  },
  "language_info": {
   "codemirror_mode": {
    "name": "ipython",
    "version": 3
   },
   "file_extension": ".py",
   "mimetype": "text/x-python",
   "name": "python",
   "nbconvert_exporter": "python",
   "pygments_lexer": "ipython3",
   "version": "3.8.3"
  }
 },
 "nbformat": 4,
 "nbformat_minor": 4
}
